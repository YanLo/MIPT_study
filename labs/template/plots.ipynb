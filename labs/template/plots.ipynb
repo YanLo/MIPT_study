{
 "cells": [
  {
   "cell_type": "code",
   "execution_count": 17,
   "metadata": {},
   "outputs": [],
   "source": [
    "import matplotlib.pyplot as plt\n",
    "import scipy.optimize as optimizer\n",
    "import numpy as np"
   ]
  },
  {
   "cell_type": "code",
   "execution_count": 3,
   "metadata": {},
   "outputs": [],
   "source": [
    "x_data = []\n",
    "y_data = []"
   ]
  },
  {
   "cell_type": "code",
   "execution_count": 4,
   "metadata": {},
   "outputs": [],
   "source": [
    "def fill_x_array_with_data_from_file(name_of_file):\n",
    "    del x_data[:]\n",
    "    x_data_file = open(name_of_file, 'r')  \n",
    "    for row in x_data_file:\n",
    "        x_data.append(float(row))\n",
    "              \n",
    "            \n",
    "def fill_y_array_with_data_from_file(name_of_file):\n",
    "    del y_data[:]\n",
    "    y_data_file = open(name_of_file, 'r')\n",
    "    for row in y_data_file:\n",
    "        y_data.append(float(row))  "
   ]
  },
  {
   "cell_type": "code",
   "execution_count": 5,
   "metadata": {},
   "outputs": [],
   "source": [
    "def function(x, a, b):\n",
    "    y = []\n",
    "    for x_i in x:\n",
    "        y_i = a * x_i + b\n",
    "        y.append(y_i)\n",
    "    return y"
   ]
  },
  {
   "cell_type": "code",
   "execution_count": 32,
   "metadata": {
    "scrolled": true
   },
   "outputs": [
    {
     "data": {
      "image/png": "[encoded data removed]",
      "text/plain": [
       "<Figure size 432x288 with 1 Axes>"
      ]
     },
     "metadata": {
      "needs_background": "light"
     },
     "output_type": "display_data"
    },
    {
     "name": "stdout",
     "output_type": "stream",
     "text": [
      "Параметр a: 0.0213 ± 0.0002\n",
      "Параметр b: -0.0037 ± 0.0014\n"
     ]
    }
   ],
   "source": [
    "plt.clf()\n",
    "\n",
    "fill_x_array_with_data_from_file('data_x')\n",
    "fill_y_array_with_data_from_file('data_y')\n",
    "plt.scatter(x_data, y_data, color='k', marker='.')\n",
    "optimizedParametres, pcov = optimizer.curve_fit(function, x_data, y_data)\n",
    "plt.plot(x_data, function(x_data, *optimizedParametres), color = 'k')\n",
    "perr = np.sqrt(np.diag(pcov)) #mistakes of opt_parametres\n",
    "\n",
    "plt.xlabel('V, $cm^3$')\n",
    "plt.ylabel('h, mm')\n",
    "plt.title('h(V)')\n",
    "plt.savefig('plot', dpi = 300)\n",
    "\n",
    "plt.show()\n",
    "print 'Параметр a:', '{:06.4f}'.format(optimizedParametres[0]), u\"\\u00B1\", '{:06.4f}'.format(perr[0])\n",
    "print 'Параметр b:', '{:06.4f}'.format(optimizedParametres[1]), u\"\\u00B1\", '{:06.4f}'.format(perr[1])"
   ]
  },
  {
   "cell_type": "code",
   "execution_count": null,
   "metadata": {},
   "outputs": [],
   "source": []
  }
 ],
 "metadata": {
  "kernelspec": {
   "display_name": "Python 2",
   "language": "python",
   "name": "python2"
  },
  "language_info": {
   "codemirror_mode": {
    "name": "ipython",
    "version": 2
   },
   "file_extension": ".py",
   "mimetype": "text/x-python",
   "name": "python",
   "nbconvert_exporter": "python",
   "pygments_lexer": "ipython2",
   "version": "2.7.12"
  }
 },
 "nbformat": 4,
 "nbformat_minor": 2
}
