{
 "cells": [
  {
   "cell_type": "code",
   "execution_count": 8,
   "metadata": {},
   "outputs": [],
   "source": [
    "import numpy as np"
   ]
  },
  {
   "cell_type": "code",
   "execution_count": 53,
   "metadata": {},
   "outputs": [
    {
     "name": "stdout",
     "output_type": "stream",
     "text": [
      "999 1000 999 1000\n"
     ]
    }
   ],
   "source": [
    "a = []\n",
    "b = []\n",
    "c = []\n",
    "d = []\n",
    "with open('a_diag9.txt') as a_file:\n",
    "    for line in a_file:\n",
    "        a.append(float(line))\n",
    "        \n",
    "with open('c_diag9.txt') as b_file:\n",
    "    for line in b_file:\n",
    "        b.append(float(line))\n",
    "\n",
    "# I used formula where b is central\n",
    "        \n",
    "with open('b_diag9.txt') as c_file:\n",
    "    for line in c_file:\n",
    "        c.append(float(line))\n",
    "        \n",
    "with open('r9.txt') as d_file:\n",
    "    for line in d_file:\n",
    "        d.append(float(line))\n",
    "        \n",
    "print(len(a), len(b), len(c), len(d))"
   ]
  },
  {
   "cell_type": "code",
   "execution_count": 62,
   "metadata": {},
   "outputs": [],
   "source": [
    "# We assume that A is (3, 3) shape\n",
    "\n",
    "def screw(a, b, c, d):\n",
    "    try:\n",
    "        y = np.zeros_like(b)\n",
    "        x = np.zeros_like(b)\n",
    "        alpha = np.zeros_like(b) \n",
    "        betta = np.zeros_like(b)\n",
    "        n = len(b)\n",
    "    \n",
    "        y[0] = b[0]\n",
    "        alpha[0] = - c[0] / y[0]\n",
    "        betta[0] = d[0] / y[0]\n",
    "    \n",
    "        for i in range(1, n-1):\n",
    "            y[i] = b[i] + a[i-1] * alpha[i-1]\n",
    "            alpha[i] = - c[i] / y[i]\n",
    "            betta[i] = (d[i] - a[i-1] * betta[i-1]) / y[i]\n",
    "        \n",
    "        y[n-1] = b[n-1] + a[n-2] * alpha[n-2]\n",
    "        betta[n-1] = (d[n-1] - a[n-2] * betta[n-2]) / y[n-1]\n",
    "    \n",
    "        x[n-1] = betta[n-1]\n",
    "        for i in reversed(range(0, n-1)):\n",
    "            x[i] = alpha[i] * x[i+1] + betta[i]\n",
    "    \n",
    "            \n",
    "    except IndexError as error:\n",
    "        print(error)\n",
    "        print('stop because of error')\n",
    "        \n",
    "    return x"
   ]
  },
  {
   "cell_type": "code",
   "execution_count": 74,
   "metadata": {
    "scrolled": false
   },
   "outputs": [
    {
     "name": "stdout",
     "output_type": "stream",
     "text": [
      "e =  3.20815395860481e-12\n"
     ]
    }
   ],
   "source": [
    "x = screw(a, b, c, d)\n",
    "\n",
    "#initialize matrix A\n",
    "n = len(b)\n",
    "A = np.zeros((n, n))\n",
    "A[0][0] = b[0]\n",
    "A[0][1] = c[0]\n",
    "\n",
    "for i in range(1, n-1):\n",
    "    A[i][i-1] = a[i-1]\n",
    "    A[i][i]   = b[i]\n",
    "    A[i][i+1] = c[i]\n",
    "    \n",
    "A[n-1][n-2] = a[n-2]\n",
    "A[n-1][n-1] = b[n-1]\n",
    "\n",
    "f = d\n",
    "e = np.linalg.norm(np.dot(A, x) - f) / np.linalg.norm(f)\n",
    "\n",
    "print('e = ', e)"
   ]
  },
  {
   "cell_type": "code",
   "execution_count": null,
   "metadata": {},
   "outputs": [],
   "source": [
    "# Compare with Gauss method\n",
    "\n",
    "def lu_decomposition(A):\n",
    "    L = np.zeros_like(A)\n",
    "    U = np.zeros_like(A)\n",
    "\n",
    "    n = A.shape[0]\n",
    "    for j in range(n):\n",
    "        U[0][j] = A[0][j]\n",
    "        L[j][0] = A[j][0] / A[0][0]\n",
    "\n",
    "    for i in range(1, n):\n",
    "        for j in range(i, n):\n",
    "            sum_u = sum_l = 0\n",
    "            for k in range(0, i):\n",
    "                sum_u = sum_u + L[i][k] * U[k][j]\n",
    "                sum_l = sum_l + L[j][k] * U[k][i]\n",
    "                \n",
    "            U[i][j] = A[i][j] - sum_u\n",
    "            L[j][i] = (A[j][i] - sum_l) / U[i][i]\n",
    "             \n",
    "    return L, U\n",
    "\n",
    "L, U = lu_decomposition(A)\n",
    "n = L.shape[0]"
   ]
  },
  {
   "cell_type": "code",
   "execution_count": null,
   "metadata": {},
   "outputs": [],
   "source": [
    "#Ly = f\n",
    "y = np.zeros_like(f)\n",
    "for i in range(0, n):\n",
    "    temp_sum = 0\n",
    "    for k in range(0, i):\n",
    "        temp_sum = temp_sum + L[i][k] * y[k]\n",
    "    y[i] = f[i] - temp_sum\n",
    "        \n",
    "#Ux = y    \n",
    "x = np.zeros_like(y)\n",
    "for i in reversed(range(0, n)):\n",
    "    temp_sum = 0\n",
    "    for k in range(i+1, n):\n",
    "        temp_sum = temp_sum + U[i][k] * x[k]\n",
    "    x[i] = (y[i] - temp_sum) / U[i][i]"
   ]
  }
 ],
 "metadata": {
  "kernelspec": {
   "display_name": "Python 3",
   "language": "python",
   "name": "python3"
  },
  "language_info": {
   "codemirror_mode": {
    "name": "ipython",
    "version": 3
   },
   "file_extension": ".py",
   "mimetype": "text/x-python",
   "name": "python",
   "nbconvert_exporter": "python",
   "pygments_lexer": "ipython3",
   "version": "3.6.8"
  }
 },
 "nbformat": 4,
 "nbformat_minor": 2
}
