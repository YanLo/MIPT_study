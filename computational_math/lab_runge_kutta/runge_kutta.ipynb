{
 "cells": [
  {
   "cell_type": "code",
   "execution_count": 9,
   "metadata": {},
   "outputs": [],
   "source": [
    "#define model\n",
    "import functools\n",
    "import math\n",
    "\n",
    "def oscillation(vec):\n",
    "    x, y, dx, dy = vec[0], vec[1], vec[2], vec[3]\n",
    "    nu = 0.012277471\n",
    "    d_1 = ((x + nu)**2 + y**2)**(3/2) \n",
    "    d_2 = ((x - (1 - nu))**2 + y**2)**(3/2)\n",
    "    ddx = x+2*dy-(1-nu)*(x+nu)/d_1-nu*(x-(1-nu))/d_2\n",
    "    ddy = y-2*dx-(1-nu)*y/d_1-nu*y/d_2 \n",
    "    return [dx, dy, ddx, ddy]"
   ]
  },
  {
   "cell_type": "code",
   "execution_count": 24,
   "metadata": {},
   "outputs": [],
   "source": [
    "#computational method - ЯМРК(4)\n",
    "import numpy as np\n",
    "\n",
    "def rungekut(func, t_0, x_0, t_1):\n",
    "    num_of_it = 10\n",
    "    step = (t_1 - t_0) /num_of_it\n",
    "    x_cur = x_0\n",
    "\n",
    "    # k_1 = f(x_n, y_n)\n",
    "    # k_2 = f(x_n + h/2, y_n + h/2 * k_1);\n",
    "    # k_3 = f(x_n + h/2, y_n + h/2 * k_2);\n",
    "    # k_4 = f(x_n + h, y_n + h * k_3);\n",
    "\n",
    "    for i in range(num_of_it):\n",
    "        k_1 = func(x_cur)\n",
    "        k_2 = func(np.add(x_cur, np.dot(k_1, step/2)))\n",
    "        k_3 = func(np.add(x_cur, np.dot(k_2, step/2)))\n",
    "        k_4 = func(np.add(x_cur, np.dot(k_3, step)))\n",
    "\n",
    "        # x_{n+1} = x_n + h/6 * (k_1 + 2*k_2 + 2*k_3 + k_4)\n",
    "\n",
    "        # k_1 + 2*k_2\n",
    "        temp_1 = np.add(k_1, np.dot(k_1, 2))\n",
    "        # 2*k_3 + k_4\n",
    "        temp_2 = np.add(np.dot(k_3, 2), k_4)\n",
    "        # h/6 * (k_1 + 2*k_2 + 2*k_3 + k_4)\n",
    "        temp_3 = np.dot(np.add(temp_1, temp_2), step/6)\n",
    "\n",
    "        x_cur = np.add(x_cur, temp_3)\n",
    "\n",
    "    return x_cur"
   ]
  },
  {
   "cell_type": "code",
   "execution_count": 67,
   "metadata": {},
   "outputs": [],
   "source": [
    "#visualize\n",
    "\n",
    "from matplotlib import pylab as plt\n",
    "import math\n",
    "\n",
    "def create_frame_oscillation(t, x):\n",
    "    plt.xlim([-3, 3])\n",
    "    plt.ylim([-3, 3])\n",
    "    plt.plot(x[0], x[1], 'ob', ms=1)\n",
    "    plt.title('t = {time:.2f} c'.format(time=t))\n",
    "    plt.xlabel('x')\n",
    "    plt.ylabel('y')\n",
    "    plt.savefig('frames/f_{:04.0f}.png'.format(t * 100), bbox_inches='tight', dpi=240)"
   ]
  },
  {
   "cell_type": "code",
   "execution_count": 68,
   "metadata": {},
   "outputs": [],
   "source": [
    "def create_visual(comp_method_func, model_func, create_frame_func):\n",
    "    if not os.path.exists('frames'):\n",
    "        os.makedirs('frames')\n",
    "    os.system('rm frames/*')\n",
    "\n",
    "    t_0 = 0\n",
    "    t_1 = 17.0652165601579625588917206249\n",
    "    x_0 = [0.994, 0, 0, -2.00158510637908252240537862224]\n",
    "    step_num = 10000\n",
    "    time_step = (t_1 - t_0) / step_num    \n",
    "    t = t_0\n",
    "    x = x_0\n",
    "    create_frame_func(t, x)\n",
    "    for i in range(step_num):\n",
    "        x = comp_method_func(model_func, t, x, t + time_step)\n",
    "        t = t + time_step\n",
    "        create_frame_func(t, x)"
   ]
  },
  {
   "cell_type": "code",
   "execution_count": null,
   "metadata": {
    "scrolled": false
   },
   "outputs": [],
   "source": [
    "create_visual(comp_method_func=rungekut, model_func=oscillation, create_frame_func=create_frame_oscillation)"
   ]
  },
  {
   "cell_type": "code",
   "execution_count": null,
   "metadata": {
    "scrolled": true
   },
   "outputs": [],
   "source": [
    "# use of library runge kutta method\n",
    "import scipy\n",
    "from scipy import integrate\n",
    "\n",
    "def oscillation_for_lib_rk(t, vec):\n",
    "    return oscillation(vec)\n",
    "\n",
    "def create_frame_lib_rk(t, x):\n",
    "    plt.plot(x, 'ob', ms=1)\n",
    "    plt.title('t = {time:.2f} c'.format(time=t))\n",
    "    plt.xlabel('x')\n",
    "    plt.ylabel('y')\n",
    "\n",
    "create_visual(comp_method_func=integrate.RK45, model_func=oscillation_for_lib_rk, create_frame_func=create_frame_lib_rk)"
   ]
  },
  {
   "cell_type": "code",
   "execution_count": null,
   "metadata": {},
   "outputs": [],
   "source": [
    "integrate.RK45()"
   ]
  }
 ],
 "metadata": {
  "kernelspec": {
   "display_name": "Python 3",
   "language": "python",
   "name": "python3"
  },
  "language_info": {
   "codemirror_mode": {
    "name": "ipython",
    "version": 3
   },
   "file_extension": ".py",
   "mimetype": "text/x-python",
   "name": "python",
   "nbconvert_exporter": "python",
   "pygments_lexer": "ipython3",
   "version": "3.6.9"
  }
 },
 "nbformat": 4,
 "nbformat_minor": 2
}
