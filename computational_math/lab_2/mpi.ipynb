{
 "cells": [
  {
   "cell_type": "code",
   "execution_count": 115,
   "metadata": {},
   "outputs": [],
   "source": [
    "import numpy as np\n",
    "from matplotlib import pyplot as plt\n",
    "from scipy.sparse.linalg import cgs as cg"
   ]
  },
  {
   "cell_type": "code",
   "execution_count": 131,
   "metadata": {},
   "outputs": [],
   "source": [
    "def solver(f, x_0, matvec_func):\n",
    "    x = x_0\n",
    "    r_0 = f - matvec_func(x_0)\n",
    "    error_array = []\n",
    "    \n",
    "    while(True):\n",
    "        v = matvec_func(x)\n",
    "        r = f - v\n",
    "        error = np.linalg.norm(r)/np.linalg.norm(r_0)\n",
    "        error_array.append(error)\n",
    "        if(error < 0.0001):\n",
    "            break\n",
    "            \n",
    "        x = x - v + f  \n",
    "    \n",
    "    return x, error_array"
   ]
  },
  {
   "cell_type": "code",
   "execution_count": 64,
   "metadata": {},
   "outputs": [],
   "source": [
    "def gen_three_diag_matrix(alpha=0.1, betta=10):\n",
    "    a = np.full(999, -1) #lower_diag\n",
    "    b = np.full(999, -1) #upper_diag\n",
    "    c = np.concatenate(([2+betta], np.full(999, 2 + alpha))) #central_diag\n",
    "    \n",
    "    return [a, b, c]"
   ]
  },
  {
   "cell_type": "code",
   "execution_count": 65,
   "metadata": {},
   "outputs": [],
   "source": [
    "#generate f\n",
    "\n",
    "f = np.full(1000, 0)\n",
    "for i in range(494, 505):\n",
    "    f[i] = 1"
   ]
  },
  {
   "cell_type": "code",
   "execution_count": 80,
   "metadata": {},
   "outputs": [
    {
     "name": "stdout",
     "output_type": "stream",
     "text": [
      "0.16392072180154035\n"
     ]
    }
   ],
   "source": [
    "# mpi with iteration parameter\n",
    "\n",
    "#first, let's find value of optimal iteration parameter\n",
    "[a, b, c] = gen_three_diag_matrix()\n",
    "n = len(c)\n",
    "matrix = np.zeros((n, n))\n",
    "matrix[0:2, 0] = [c[0], a[0]]\n",
    "matrix[n - 2:n, -1] = [b[-1], c[-1]] \n",
    "\n",
    "for i in range(1, n - 1):\n",
    "    matrix[i - 1:i + 2, i] = [b[i - 1], c[i], a[i]]\n",
    "\n",
    "lambdas = np.linalg.eigvals(matrix)\n",
    "l_max = max(lambdas)\n",
    "l_min = min(lambdas)\n",
    "\n",
    "t = 2 / (l_max + l_min)\n",
    "\n",
    "print(t)"
   ]
  },
  {
   "cell_type": "code",
   "execution_count": 85,
   "metadata": {},
   "outputs": [],
   "source": [
    "def matvecmul_with_iter_param(vec, t = 0.1639):\n",
    "    [a, b, c] = gen_three_diag_matrix()\n",
    "    \n",
    "    n = len(c)\n",
    "    res = np.zeros((n))\n",
    "    res[0] = vec[0]*c[0] + vec[1]*a[0]\n",
    "    for i in range(1, n-1):\n",
    "        res[i] = (vec[i-1]*a[i-1] + vec[i]*c[i] + vec[i+1]*a[i])\n",
    "    res[-1] = (vec[n-2]*a[n-2] + vec[n-1]*c[n-1])\n",
    "    \n",
    "    return t * res\n",
    "        "
   ]
  },
  {
   "cell_type": "code",
   "execution_count": 132,
   "metadata": {},
   "outputs": [],
   "source": [
    "x_0 = np.zeros((1000))\n",
    "x_mpi, mpi_errors_array = solver(f = t*f, x_0=x_0, matvec_func=matvecmul_with_iter_param)"
   ]
  },
  {
   "cell_type": "code",
   "execution_count": 97,
   "metadata": {},
   "outputs": [],
   "source": [
    "# check answer by calling three diagonal method from prev lab\n",
    "\n",
    "# there we consider b as a central diagonal\n",
    "def three_diagonal_method(a, b, c, d):\n",
    "    y = np.zeros_like(b)\n",
    "    x = np.zeros_like(b)\n",
    "    alpha = np.zeros_like(b)\n",
    "    betta = np.zeros_like(b)\n",
    "    n = len(b)\n",
    "\n",
    "    y[0] = b[0]\n",
    "    alpha[0] = - c[0] / y[0]\n",
    "    betta[0] = d[0] / y[0]\n",
    "\n",
    "    for i in range(1, n-1):\n",
    "        y[i] = b[i] + a[i-1] * alpha[i-1]\n",
    "        alpha[i] = - c[i] / y[i]\n",
    "        betta[i] = (d[i] - a[i-1] * betta[i-1]) / y[i]\n",
    "\n",
    "    y[n-1] = b[n-1] + a[n-2] * alpha[n-2]\n",
    "    betta[n-1] = (d[n-1] - a[n-2] * betta[n-2]) / y[n-1]\n",
    "\n",
    "    x[n-1] = betta[n-1]\n",
    "    for i in reversed(range(0, n-1)):\n",
    "        x[i] = alpha[i] * x[i+1] + betta[i]\n",
    "\n",
    "    return x"
   ]
  },
  {
   "cell_type": "code",
   "execution_count": 96,
   "metadata": {},
   "outputs": [
    {
     "name": "stdout",
     "output_type": "stream",
     "text": [
      "7.973209635437234e-05\n"
     ]
    }
   ],
   "source": [
    "x_check = three_diagonal_method(a=a, b=c, c=b, d=f)\n",
    "error = np.linalg.norm(x_mpi - x_check) / np.linalg.norm(x_mpi)\n",
    "print(error)"
   ]
  },
  {
   "cell_type": "code",
   "execution_count": 133,
   "metadata": {},
   "outputs": [
    {
     "name": "stdout",
     "output_type": "stream",
     "text": [
      "0.00012385834596555343\n"
     ]
    }
   ],
   "source": [
    "# now mpi with diag^(-1) instead t\n",
    "\n",
    "d = 1 / c\n",
    "\n",
    "def matvecmul_diag(vec):\n",
    "    [a, b, c] = gen_three_diag_matrix()\n",
    "    \n",
    "    n = len(c)\n",
    "    res = np.zeros((n))\n",
    "    res[0] = vec[0]*c[0] + vec[1]*a[0]\n",
    "    for i in range(1, n-1):\n",
    "        res[i] = (vec[i-1]*a[i-1] + vec[i]*c[i] + vec[i+1]*a[i])\n",
    "    res[-1] = (vec[n-2]*a[n-2] + vec[n-1]*c[n-1])\n",
    "    \n",
    "    return d * res\n",
    "\n",
    "x_mpi_diag, mpi_diag_errors_array = solver(f = d * f, x_0=x_0, matvec_func=matvecmul_diag)\n",
    "error = np.linalg.norm(x_mpi_diag - x_check) / np.linalg.norm(x_mpi)\n",
    "print(error)"
   ]
  },
  {
   "cell_type": "code",
   "execution_count": 148,
   "metadata": {
    "scrolled": true
   },
   "outputs": [
    {
     "name": "stdout",
     "output_type": "stream",
     "text": [
      "0.0020696275280615677\n"
     ]
    }
   ],
   "source": [
    "#mpi with conjigate gradients\n",
    "\n",
    "cg_errors_array = []\n",
    "def append_error(x_cur):\n",
    "    cg_errors_array.append(np.linalg.norm(np.dot(matrix, x_cur) - f) / np.linalg.norm(f))\n",
    "    \n",
    "cg_return = cg(matrix, f, x0 = np.zeros((n)), callback=append_error, tol=1e-4)\n",
    "\n",
    "x_cg = cg_return[0]\n",
    "error = np.linalg.norm(x_cg - x_mpi)\n",
    "print(error)"
   ]
  },
  {
   "cell_type": "code",
   "execution_count": 153,
   "metadata": {},
   "outputs": [
    {
     "data": {
      "image/png": "[encoded data removed]",
      "text/plain": [
       "<Figure size 432x288 with 1 Axes>"
      ]
     },
     "metadata": {
      "needs_background": "light"
     },
     "output_type": "display_data"
    }
   ],
   "source": [
    "# plot errors and solutions\n",
    "\n",
    "plt.plot(np.log(mpi_errors_array), label='mpi with iter param')\n",
    "plt.plot(np.log(mpi_diag_errors_array), label='mpi_diag')\n",
    "plt.plot(np.log(cg_errors_array), label='conjugated gradients')\n",
    "\n",
    "plt.xlabel('iteration')\n",
    "plt.ylabel('log(|Ax-f|/|f|)')\n",
    "plt.legend(loc='upper right')\n",
    "plt.show()"
   ]
  },
  {
   "cell_type": "code",
   "execution_count": 159,
   "metadata": {},
   "outputs": [
    {
     "data": {
      "image/png": "[encoded data removed]",
      "text/plain": [
       "<Figure size 432x288 with 1 Axes>"
      ]
     },
     "metadata": {
      "needs_background": "light"
     },
     "output_type": "display_data"
    }
   ],
   "source": [
    "plt.scatter(range(400, 600), x_mpi[400:600], label='mpi with iter param')\n",
    "plt.scatter(range(400, 600), x_mpi_diag[400:600], label='mpi_diag', marker='>')\n",
    "plt.scatter(range(400, 600), x_cg[400:600], label='conjugated gradients', marker='<')\n",
    "plt.plot(range(400, 600), x_check[400:600], label='three_diag_method')\n",
    "\n",
    "plt.xlabel('index')\n",
    "plt.ylabel('solution')\n",
    "plt.legend(loc='upper right')\n",
    "plt.show()"
   ]
  },
  {
   "cell_type": "code",
   "execution_count": null,
   "metadata": {},
   "outputs": [],
   "source": []
  }
 ],
 "metadata": {
  "kernelspec": {
   "display_name": "Python 3",
   "language": "python",
   "name": "python3"
  },
  "language_info": {
   "codemirror_mode": {
    "name": "ipython",
    "version": 3
   },
   "file_extension": ".py",
   "mimetype": "text/x-python",
   "name": "python",
   "nbconvert_exporter": "python",
   "pygments_lexer": "ipython3",
   "version": "3.6.8"
  }
 },
 "nbformat": 4,
 "nbformat_minor": 2
}
