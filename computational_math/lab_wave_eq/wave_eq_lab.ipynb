{
 "cells": [
  {
   "cell_type": "code",
   "execution_count": 62,
   "metadata": {},
   "outputs": [],
   "source": [
    "import numpy as np\n",
    "import math\n",
    "from matplotlib import pylab as plt"
   ]
  },
  {
   "cell_type": "code",
   "execution_count": 63,
   "metadata": {},
   "outputs": [],
   "source": [
    "def u0(x):\n",
    "    r = 5 * (x - 0.5)\n",
    "    if abs(r) < 1:\n",
    "        return math.exp(-1/(1 - r**2))\n",
    "    else:\n",
    "        return 0\n",
    "    \n",
    "def v0(x):\n",
    "    r = 5 * (x - 0.5)\n",
    "    if abs(r) < 1:\n",
    "        return -2 * r * math.exp(-1/(1 - r**2)) / (1 - r**2)**2\n",
    "    else:\n",
    "        return 0"
   ]
  },
  {
   "cell_type": "code",
   "execution_count": 78,
   "metadata": {},
   "outputs": [],
   "source": [
    "h = 0.05\n",
    "M = int(1 / h)\n",
    "N = 100\n",
    "tau = 3 / N"
   ]
  },
  {
   "cell_type": "code",
   "execution_count": 79,
   "metadata": {},
   "outputs": [],
   "source": [
    "u = np.array([[0.0 for x in range(M)] for t in range(N)])"
   ]
  },
  {
   "cell_type": "code",
   "execution_count": 80,
   "metadata": {},
   "outputs": [],
   "source": [
    "for m in range(M):\n",
    "    u[0][m] = u0(m * h)\n",
    "    u[1][m] = u0(m * h) + tau * v0(m * h)\n",
    "    \n",
    "for n in range(1, N - 1):\n",
    "    for m in range(1, M - 1):\n",
    "        u[n + 1][m] = 2 * u[n][m] - u[n - 1][m] + (tau/h)**2 * (u[n][m - 1] - 2 * u[n][m] + u[n][m + 1])"
   ]
  },
  {
   "cell_type": "code",
   "execution_count": 83,
   "metadata": {
    "scrolled": true
   },
   "outputs": [
    {
     "data": {
      "image/png": "[encoded data removed]",
      "text/plain": [
       "<Figure size 432x288 with 1 Axes>"
      ]
     },
     "metadata": {
      "needs_background": "light"
     },
     "output_type": "display_data"
    }
   ],
   "source": [
    "x_array = 0.05 * np.array(range(M))\n",
    "t_array = tau * np.array(range(N))\n",
    "\n",
    "for n in range(N):\n",
    "    plt.clf()\n",
    "    plt.xlim([0, 1])\n",
    "    plt.ylim([-0.5, 0.5])\n",
    "    plt.plot(x_array, u[n, :])\n",
    "    plt.xlabel('x')\n",
    "    plt.ylabel('u')\n",
    "    plt.title('t = {:.2f}'.format(n * tau))\n",
    "    plt.savefig('frames/f_{:04.0f}.png'.format(n * tau * 1000))\n",
    "    "
   ]
  }
 ],
 "metadata": {
  "kernelspec": {
   "display_name": "Python 3",
   "language": "python",
   "name": "python3"
  },
  "language_info": {
   "codemirror_mode": {
    "name": "ipython",
    "version": 3
   },
   "file_extension": ".py",
   "mimetype": "text/x-python",
   "name": "python",
   "nbconvert_exporter": "python",
   "pygments_lexer": "ipython3",
   "version": "3.6.9"
  }
 },
 "nbformat": 4,
 "nbformat_minor": 2
}
