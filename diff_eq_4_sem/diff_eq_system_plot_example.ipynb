{
 "cells": [
  {
   "cell_type": "code",
   "execution_count": 27,
   "metadata": {},
   "outputs": [],
   "source": [
    "from scipy.integrate import odeint\n",
    "from numpy import arange\n",
    "from pylab import *"
   ]
  },
  {
   "cell_type": "code",
   "execution_count": 28,
   "metadata": {},
   "outputs": [],
   "source": [
    "# 974 Fillipov diff_eq_problems_book\n",
    "\n",
    "def System_974(point, parameter):\n",
    "    x, y = point\n",
    "    d_x = x\n",
    "    d_y = 2 * x - y\n",
    "    return [d_x, d_y]"
   ]
  },
  {
   "cell_type": "code",
   "execution_count": 36,
   "metadata": {},
   "outputs": [],
   "source": [
    "# 971\n",
    "\n",
    "def System_971(point, parameter):\n",
    "    x, y = point\n",
    "    x, y = point\n",
    "    d_x = 3 * x\n",
    "    d_y = 2 * x + y\n",
    "    return [d_x, d_y]"
   ]
  },
  {
   "cell_type": "code",
   "execution_count": 29,
   "metadata": {},
   "outputs": [],
   "source": [
    "def ExampleSystem(point, parameter):\n",
    "    x, y = point\n",
    "    d_x = x * (2 - y - x)\n",
    "    d_y = -y * (1 - 1.5 * x)\n",
    "    return [d_x, d_y]"
   ]
  },
  {
   "cell_type": "code",
   "execution_count": 40,
   "metadata": {},
   "outputs": [
    {
     "data": {
      "text/plain": [
       "[<matplotlib.lines.Line2D at 0x7f615a9d6110>]"
      ]
     },
     "execution_count": 40,
     "metadata": {},
     "output_type": "execute_result"
    },
    {
     "data": {
      "image/png": "[encoded data removed]",
      "text/plain": [
       "<Figure size 432x288 with 1 Axes>"
      ]
     },
     "metadata": {
      "needs_background": "light"
     },
     "output_type": "display_data"
    }
   ],
   "source": [
    "# draw a plot\n",
    "\n",
    "parameter = arange(0, 20, 0.1)\n",
    "init_point = [1, 1]\n",
    "points = odeint(ExampleSystem, init_point, parameter)\n",
    "\n",
    "#now, points is a list of points to put on a plot\n",
    "\n",
    "fig = figure()\n",
    "xlabel('x')\n",
    "ylabel('y')\n",
    "plot(points[:, 0], points[:, 1], 'b-', alpha=0.2)\n"
   ]
  },
  {
   "cell_type": "code",
   "execution_count": null,
   "metadata": {},
   "outputs": [],
   "source": []
  }
 ],
 "metadata": {
  "kernelspec": {
   "display_name": "Python 2",
   "language": "python",
   "name": "python2"
  },
  "language_info": {
   "codemirror_mode": {
    "name": "ipython",
    "version": 2
   },
   "file_extension": ".py",
   "mimetype": "text/x-python",
   "name": "python",
   "nbconvert_exporter": "python",
   "pygments_lexer": "ipython2",
   "version": "2.7.15"
  }
 },
 "nbformat": 4,
 "nbformat_minor": 2
}
