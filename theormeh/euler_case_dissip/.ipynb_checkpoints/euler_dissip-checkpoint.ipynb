{
 "cells": [
  {
   "cell_type": "code",
   "execution_count": 1,
   "metadata": {},
   "outputs": [],
   "source": [
    "import matplotlib as mpl\n",
    "from mpl_toolkits.mplot3d import Axes3D\n",
    "import numpy as np\n",
    "import matplotlib.pylab as plt"
   ]
  },
  {
   "cell_type": "code",
   "execution_count": null,
   "metadata": {},
   "outputs": [
    {
     "name": "stderr",
     "output_type": "stream",
     "text": [
      "/home/yan/anaconda2/lib/python2.7/site-packages/matplotlib/cbook/deprecation.py:107: MatplotlibDeprecationWarning: Adding an axes using the same arguments as a previous axes currently reuses the earlier instance.  In a future version, a new instance will always be created and returned.  Meanwhile, this warning can be suppressed, and the future behavior ensured, by passing a unique label to each axes instance.\n",
      "  warnings.warn(message, mplDeprecation, stacklevel=1)\n"
     ]
    }
   ],
   "source": [
    "data_t = open(\"data_t\", \"r\")\n",
    "data_w = open(\"data_w\", \"r\")\n",
    "data_a = open(\"data_a\", \"r\")\n",
    "data_n = open(\"data_n\", \"r\")\n",
    "\n",
    "t_array = np.fromfile(data_t, dtype=np.double)\n",
    "w_array = np.fromfile(data_w, dtype=np.double)\n",
    "a_array = np.fromfile(data_a, dtype=np.double)\n",
    "n_array = np.fromfile(data_n, dtype=np.double)\n",
    "p_l = []\n",
    "q_l = []\n",
    "r_l = []\n",
    "t_l = []\n",
    "\n",
    "mpl.rcParams['legend.fontsize'] = 10\n",
    "fig = plt.figure()\n",
    "i = 0\n",
    "\n",
    "for t in t_array:\n",
    "    #there we draw 2d plot\n",
    "    t_l.append(t)\n",
    "    p_l.append(w_array[3*i])\n",
    "    q_l.append(w_array[3*i + 1])\n",
    "    r_l.append(w_array[3*i + 2])\n",
    "    \n",
    "    ax = fig.add_subplot(2, 1, 1)\n",
    "    ax.cla()\n",
    "    ax.plot(t_l, r_l, label = 'p(t)')\n",
    "    ax.legend()\n",
    "    plt.title('t = {:.2f} c'.format(t))\n",
    "    \n",
    "    #there we draw 3d plot\n",
    "    ax = fig.add_subplot(2, 1, 2, projection='3d')\n",
    "    ax.cla()\n",
    "    ax.set_xlim3d(-2, 2)\n",
    "    ax.set_ylim3d(-2, 2)\n",
    "    ax.set_zlim3d(-4, 4)\n",
    "    \n",
    "    #draw vector w\n",
    "    x_l = np.linspace(0, w_array[3*i], 2)\n",
    "    y_l = np.linspace(0, w_array[3*i + 1], 2)\n",
    "    z_l = np.linspace(0, w_array[3*i + 2], 2)\n",
    "\n",
    "    i = i + 1\n",
    "    ax.plot(x_l, y_l, z_l, label='A=80 B=80 C=1 p_0 = 0 q_0 = 5 r_0 = 80')\n",
    "    plt.savefig('frames/euler_{:04.0f}.png'.format(t*1000), bbox_inches = 'tight', dpi = 240)"
   ]
  },
  {
   "cell_type": "code",
   "execution_count": null,
   "metadata": {},
   "outputs": [],
   "source": [
    "#there we draw 2d plot\n",
    "    t_l.append(t)\n",
    "    p_l.append(w_array[3*i])\n",
    "    q_l.append(w_array[3*i + 1])\n",
    "    r_l.append(w_array[3*i + 2])\n",
    "    \n",
    "    ax = fig.add_subplot(2, 1, 1)\n",
    "    ax.cla()\n",
    "    ax.plot(t_l, p_l, label = 'p(t)')\n",
    "    ax.legend()\n",
    "    plt.title('t = {:.2f} c'.format(t))\n",
    "    \n",
    "    \n",
    "#there we draw 3d plot\n",
    "    ax = fig.add_subplot(2, 1, 2, projection='3d')\n",
    "    ax.cla()\n",
    "    ax.set_xlim3d(-2, 2)\n",
    "    ax.set_ylim3d(-2, 2)\n",
    "    ax.set_zlim3d(-4, 4)\n",
    "    \n",
    "#draw vector a\n",
    "    x_l = np.linspace(0, a_array[3*i], 2)\n",
    "    y_l = []\n",
    "    z_l = []\n",
    "\n",
    "    for x in x_l:\n",
    "        y_l.append(a_array[3*i + 1]*x/a_array[3*i])\n",
    "        z_l.append(a_array[3*i + 2]*x/a_array[3*i])\n",
    "    \n",
    "    ax.plot(x_l, y_l, z_l, label='A=81 B=80 C=1 p_0 = 1 q_0 = 0 r_0 = 100')\n",
    "    \n",
    "    #draw vector n\n",
    "    x_l = np.linspace(a_array[3*i] - 0.1, a_array[3*i] + 0.1, 2)\n",
    "    y_l = []\n",
    "    z_l = []\n",
    "\n",
    "    for x in x_l:\n",
    "        y_l.append(n_array[3*i + 1]*(x-a_array[3*i])/n_array[3*i] + a_array[3*i + 1])\n",
    "        z_l.append(n_array[3*i + 2]*(x-a_array[3*i])/n_array[3*i] + a_array[3*i + 2])\n",
    "    \n",
    "    ax.plot(x_l, y_l, z_l, label='A=81 B=80 C=1 p_0 = 1 q_0 = 0 r_0 = 100')"
   ]
  }
 ],
 "metadata": {
  "kernelspec": {
   "display_name": "Python 2",
   "language": "python",
   "name": "python2"
  },
  "language_info": {
   "codemirror_mode": {
    "name": "ipython",
    "version": 2
   },
   "file_extension": ".py",
   "mimetype": "text/x-python",
   "name": "python",
   "nbconvert_exporter": "python",
   "pygments_lexer": "ipython2",
   "version": "2.7.15"
  }
 },
 "nbformat": 4,
 "nbformat_minor": 2
}
