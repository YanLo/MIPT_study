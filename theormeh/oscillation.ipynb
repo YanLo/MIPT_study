{
 "cells": [
  {
   "cell_type": "code",
   "execution_count": null,
   "metadata": {},
   "outputs": [],
   "source": [
    "import numpy as np\n",
    "import matplotlib.pylab as plt"
   ]
  },
  {
   "cell_type": "code",
   "execution_count": null,
   "metadata": {},
   "outputs": [],
   "source": [
    "k = 0.05\n",
    "A = np.array([[0, 1],[-1, -k]])\n",
    "X = np.array([1, 0])\n",
    "delta_t = 0.01\n",
    "t_end = 10.0\n",
    "t_output = 0.05 # print every 0.01"
   ]
  },
  {
   "cell_type": "code",
   "execution_count": null,
   "metadata": {
    "scrolled": true
   },
   "outputs": [],
   "source": [
    "t = 0 # global integration time\n",
    "t_print = 0 # \n",
    "\n",
    "B = np.linalg.inv(np.eye(2) - A*delta_t)\n",
    "\n",
    "while (t < t_end):\n",
    "    X = np.matmul(B, X)\n",
    "    \n",
    "    if (t_print > t_output):\n",
    "        #print('{0} {1} {2}\\n'.format(t, X[0], X[1]))\n",
    "        t_print = 0\n",
    "        \n",
    "        plt.clf()\n",
    "        plt.plot([-2, 2], [0, 0], '-k')\n",
    "        plt.plot(X[0], 0, 'ob', ms = 20)\n",
    "        plt.plot([0, X[0]], [0, 0], '-r', ms = 10)\n",
    "\n",
    "        plt.xlim([-1.5, 1.5])\n",
    "        plt.title('t = {:.2f}'.format(t))\n",
    "        plt.savefig('./frames/f_{}.png'.format(t), bbox_inches = 'tight')\n",
    "        \n",
    "    t += delta_t\n",
    "    t_print += delta_t\n",
    "\n",
    "plt.show()"
   ]
  }
 ],
 "metadata": {
  "kernelspec": {
   "display_name": "Python 3",
   "language": "python",
   "name": "python3"
  },
  "language_info": {
   "codemirror_mode": {
    "name": "ipython",
    "version": 2
   },
   "file_extension": ".py",
   "mimetype": "text/x-python",
   "name": "python",
   "nbconvert_exporter": "python",
   "pygments_lexer": "ipython2",
   "version": "2.7.15rc1"
  }
 },
 "nbformat": 4,
 "nbformat_minor": 2
}
