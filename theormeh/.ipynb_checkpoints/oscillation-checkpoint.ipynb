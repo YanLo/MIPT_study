{
 "cells": [
  {
   "cell_type": "code",
   "execution_count": 37,
   "metadata": {},
   "outputs": [],
   "source": [
    "import numpy as np\n",
    "import matplotlib.pylab as plt\n"
   ]
  },
  {
   "cell_type": "code",
   "execution_count": 38,
   "metadata": {},
   "outputs": [],
   "source": [
    "data_file_t = open(\"data_t\", \"r\")\n",
    "data_file_x = open(\"data_x\", \"r\")\n",
    "\n",
    "t_array = np.fromfile(data_file_t, dtype=np.double)\n",
    "x_array = np.fromfile(data_file_x, dtype=np.double)"
   ]
  },
  {
   "cell_type": "code",
   "execution_count": 39,
   "metadata": {
    "scrolled": true
   },
   "outputs": [
    {
     "data": {
      "image/png": "[encoded data removed]",
      "text/plain": [
       "<Figure size 432x288 with 1 Axes>"
      ]
     },
     "metadata": {
      "needs_background": "light"
     },
     "output_type": "display_data"
    }
   ],
   "source": [
    "for t, x in zip(t_array, x_array):\n",
    "    plt.clf()\n",
    "    plt.plot([-3, 3], [0, 0], '-k')\n",
    "    plt.plot(x, 0, 'ob', ms = 20)\n",
    "    plt.plot([0, x], [0, 0], '-r', ms = 10)\n",
    "    \n",
    "    plt.xlim([-3, 3])\n",
    "    plt.title('t = {:.2f} c'.format(t))\n",
    "    plt.savefig('oscillation_movie/f_{}.png'.format(t), bbox_inches = 'tight', dpi = 300)"
   ]
  },
  {
   "cell_type": "code",
   "execution_count": null,
   "metadata": {},
   "outputs": [],
   "source": []
  }
 ],
 "metadata": {
  "kernelspec": {
   "display_name": "Python 2",
   "language": "python",
   "name": "python2"
  },
  "language_info": {
   "codemirror_mode": {
    "name": "ipython",
    "version": 2
   },
   "file_extension": ".py",
   "mimetype": "text/x-python",
   "name": "python",
   "nbconvert_exporter": "python",
   "pygments_lexer": "ipython2",
   "version": "2.7.12"
  }
 },
 "nbformat": 4,
 "nbformat_minor": 2
}
