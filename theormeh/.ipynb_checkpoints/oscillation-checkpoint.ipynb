{
 "cells": [
  {
   "cell_type": "code",
   "execution_count": 1,
   "metadata": {},
   "outputs": [],
   "source": [
    "import numpy as np\n",
    "import matplotlib.pylab as plt"
   ]
  },
  {
   "cell_type": "code",
   "execution_count": null,
   "metadata": {
    "scrolled": true
   },
   "outputs": [],
   "source": [
    "\n",
    "        \n",
    "        plt.clf()\n",
    "        plt.plot([-2, 2], [0, 0], '-k')\n",
    "        plt.plot(X[0], 0, 'ob', ms = 20)\n",
    "        plt.plot([0, X[0]], [0, 0], '-r', ms = 10)\n",
    "\n",
    "        plt.xlim([-1.5, 1.5])\n",
    "        plt.title('t = {:.2f}'.format(t))\n",
    "        plt.savefig('oscillation_movie/f_{}.png'.format(t), bbox_inches = 'tight'\n",
    "\n",
    "plt.show()"
   ]
  }
 ],
 "metadata": {
  "kernelspec": {
   "display_name": "Python 2",
   "language": "python",
   "name": "python2"
  },
  "language_info": {
   "codemirror_mode": {
    "name": "ipython",
    "version": 2
   },
   "file_extension": ".py",
   "mimetype": "text/x-python",
   "name": "python",
   "nbconvert_exporter": "python",
   "pygments_lexer": "ipython2",
   "version": "2.7.12"
  }
 },
 "nbformat": 4,
 "nbformat_minor": 2
}
